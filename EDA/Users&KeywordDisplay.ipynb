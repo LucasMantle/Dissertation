{
 "cells": [
  {
   "cell_type": "code",
   "execution_count": 33,
   "metadata": {},
   "outputs": [],
   "source": [
    "import numpy as np\n",
    "import pandas as pd\n"
   ]
  },
  {
   "cell_type": "code",
   "execution_count": 40,
   "metadata": {},
   "outputs": [],
   "source": [
    "users = []\n",
    "with open('Users&Keywords/keywords.txt', 'r') as x:\n",
    "    Lines = x.readlines()\n",
    "    for line in Lines:\n",
    "        if line.strip().lower() not in users:\n",
    "            thing = line.strip()\n",
    "            users.append(thing)"
   ]
  },
  {
   "cell_type": "code",
   "execution_count": 41,
   "metadata": {},
   "outputs": [],
   "source": [
    "users2 = sorted(users, key=str.lower)"
   ]
  },
  {
   "cell_type": "code",
   "execution_count": 42,
   "metadata": {},
   "outputs": [
    {
     "name": "stdout",
     "output_type": "stream",
     "text": [
      "['S&P', '\"S&P 500\"', 'S&P500', 's&p', 'SNP500', 'SP500', '\"SP 500\"', '\"SNP 500\"', '\"S&amp;P\"', 'SPX', 'SPY', 'SP500NTR', 'IVV', 'VOO', 'SPLG', 'RSP', 'DIJA', 'dowjones', '\"Dow Jones\"', '\"dow jones\"', 'Dow', 'MSCI', 'msci', 'AAPL', 'Apple', 'MSFT', 'Microsoft', 'AMZN', 'Amazon', 'FB', 'Facebook', 'Google', 'Goog', 'Googl', 'Visa', '$V', '\"Berkshire Hathaway\"', 'BRK.B']\n"
     ]
    }
   ],
   "source": [
    "print(users)"
   ]
  },
  {
   "cell_type": "code",
   "execution_count": 43,
   "metadata": {},
   "outputs": [
    {
     "name": "stdout",
     "output_type": "stream",
     "text": [
      "[\"Berkshire Hathaway\", \"Dow Jones\", \"dow jones\", \"S&amp;P\", \"S&P 500\", \"SNP 500\", \"SP 500\", $V, AAPL, Amazon, AMZN, Apple, BRK.B, DIJA, Dow, dowjones, Facebook, FB, Goog, Googl, Google, IVV, Microsoft, MSCI, msci, MSFT, RSP, S&P, s&p, S&P500, SNP500, SP500, SP500NTR, SPLG, SPX, SPY, Visa, VOO]\n"
     ]
    }
   ],
   "source": [
    "# Printing list using map\n",
    "print ('[%s]' % ', '.join(map(str, users2)))"
   ]
  },
  {
   "cell_type": "code",
   "execution_count": 12,
   "metadata": {},
   "outputs": [
    {
     "data": {
      "text/plain": [
       "['5_min_macro',\n",
       " 'abc',\n",
       " 'abnormalreturns',\n",
       " 'activistshorts',\n",
       " 'activiststocks',\n",
       " 'advisorhubin',\n",
       " 'advisorhubinc',\n",
       " 'alderlaneeggs',\n",
       " 'allstarcharts',\n",
       " 'barbariancap',\n",
       " 'barrons400',\n",
       " 'bbcbreaking',\n",
       " 'benzinga',\n",
       " 'bergencapital',\n",
       " 'bespokeinvest',\n",
       " 'bluegrasscap',\n",
       " 'bostonchaahhts',\n",
       " 'brattlestcap',\n",
       " 'breakingmkts',\n",
       " 'breakingviews',\n",
       " 'breakoutstocks',\n",
       " 'brunicharting',\n",
       " 'burns277',\n",
       " 'business',\n",
       " 'bysamro',\n",
       " 'calculatedrisk',\n",
       " 'callum_thomas',\n",
       " 'carterbworth',\n",
       " 'charliebilello',\n",
       " 'chicagostock',\n",
       " 'chitownba',\n",
       " 'citronresearch',\n",
       " 'cnbc',\n",
       " 'cnbcnow',\n",
       " 'cnnbrk',\n",
       " 'danfitpatrick',\n",
       " 'danzanger',\n",
       " 'davidein',\n",
       " 'davidschawel',\n",
       " 'dcdaytrader',\n",
       " 'dealbook',\n",
       " 'deitaone',\n",
       " 'dgtrading101',\n",
       " 'dismalscientist',\n",
       " 'dkellercmt',\n",
       " 'dowjones',\n",
       " 'epicuriandealmaker',\n",
       " 'equitynyc',\n",
       " 'eventdrivenmgr',\n",
       " 'ewhispers',\n",
       " 'fainvestors',\n",
       " 'fattailcapital',\n",
       " 'fauxraydalio',\n",
       " 'financialnews',\n",
       " 'firstadopter',\n",
       " 'footnoted',\n",
       " 'foxnews',\n",
       " 'frances_coppola',\n",
       " 'ft',\n",
       " 'ftfinancenews',\n",
       " 'fundiescapital',\n",
       " 'fundylongshort',\n",
       " 'gfmag',\n",
       " 'glaucusresearch',\n",
       " 'globalfinance',\n",
       " 'gothamresearch',\n",
       " 'grantspub',\n",
       " 'greatquarter',\n",
       " 'harmongreg',\n",
       " 'hedgefundinvest',\n",
       " 'hedgeyehwp',\n",
       " 'herbgreenberg',\n",
       " 'hmeisler',\n",
       " 'ianbremmer',\n",
       " 'ibdinvestors',\n",
       " 'icdnews',\n",
       " 'iimag',\n",
       " 'incredibletrade',\n",
       " 'investorsbeware',\n",
       " 'investorslive',\n",
       " 'ivanthek',\n",
       " 'jasonleavitt',\n",
       " 'jesse_livermore',\n",
       " 'jimcramer',\n",
       " 'joelkruger',\n",
       " 'john_hempton',\n",
       " 'johnscharts',\n",
       " 'justinwolfers',\n",
       " 'justinwolfers,',\n",
       " 'keithmccullough',\n",
       " 'kerrisdalecap',\n",
       " 'kuna100',\n",
       " 'lizannsonders',\n",
       " 'lmt978',\n",
       " 'longshorttrader',\n",
       " 'manualofideas',\n",
       " 'marcchaikin',\n",
       " 'mariahjsummers',\n",
       " 'marianacapital',\n",
       " 'mark_dow',\n",
       " 'markarbeter',\n",
       " 'marketclub',\n",
       " 'marketfolly',\n",
       " 'markets',\n",
       " 'marketwatch',\n",
       " 'markflowchatter',\n",
       " 'markyusko',\n",
       " 'matt_levine',\n",
       " 'michaelbatnick',\n",
       " 'mjmauboussin',\n",
       " 'modestproposal1',\n",
       " 'muddywatersre',\n",
       " 'newsquawk',\n",
       " 'noahpinion',\n",
       " 'northmantrader',\n",
       " 'nypostbiz',\n",
       " 'nytimesbusiness',\n",
       " 'optionshawk',\n",
       " 'paulkrugman',\n",
       " 'peterlbrandt',\n",
       " 'peterschiff',\n",
       " 'pmarca',\n",
       " 'profgalloway',\n",
       " 'qtrresearch',\n",
       " 'raoilgmi',\n",
       " 'reddogt3',\n",
       " 'reformedbroker',\n",
       " 'reutersbiz',\n",
       " 'ritholtz',\n",
       " 'ritholtzwealth',\n",
       " 'robintheblack',\n",
       " 'ryandetrick',\n",
       " 'scalpideas',\n",
       " 'schuldensuehner',\n",
       " 'sirf_report',\n",
       " 'sjd10304',\n",
       " 'sjosephburns',\n",
       " 'skynews',\n",
       " 'snp_500',\n",
       " 'soberlook',\n",
       " 'spbaines',\n",
       " 'spdjindices',\n",
       " 'stealthytrading',\n",
       " 'steve_hanke',\n",
       " 'stlouisfed',\n",
       " 'stockcats',\n",
       " 'stockitchen',\n",
       " 'stocktonkatie',\n",
       " 'stocktwits',\n",
       " 'stockwinnerscom',\n",
       " 'super_trades',\n",
       " 'the_real_fly',\n",
       " 'thebubblebubble',\n",
       " 'thesquaremile',\n",
       " 'thestalwart',\n",
       " 'timmerfidelity',\n",
       " 'tmfjmo',\n",
       " 'tmtanalyst',\n",
       " 'topdowncharts',\n",
       " 'tradertvlive',\n",
       " 'truthgundlach',\n",
       " 'tylercowen',\n",
       " 'usatoday',\n",
       " 'usatodaymoney',\n",
       " 'valuetrap13',\n",
       " 'valuewalk',\n",
       " 'vandaresearch',\n",
       " 'verrone_chris',\n",
       " 'wallstcynic',\n",
       " 'warrenbuffet',\n",
       " 'wealthmanagement',\n",
       " 'worldfinance',\n",
       " 'wsj',\n",
       " 'wsjmarkets',\n",
       " 'wu_tang_finance',\n",
       " 'zerohedge']"
      ]
     },
     "execution_count": 12,
     "metadata": {},
     "output_type": "execute_result"
    }
   ],
   "source": []
  },
  {
   "cell_type": "code",
   "execution_count": 46,
   "metadata": {},
   "outputs": [
    {
     "data": {
      "text/plain": [
       "[('And', 'CC'),\n",
       " ('now', 'RB'),\n",
       " ('for', 'IN'),\n",
       " ('something', 'NN'),\n",
       " ('completely', 'RB'),\n",
       " ('different', 'JJ')]"
      ]
     },
     "execution_count": 46,
     "metadata": {},
     "output_type": "execute_result"
    }
   ],
   "source": [
    "import nltk\n",
    "\n",
    "text = nltk.word_tokenize(\"And now for something completely different\")\n",
    "nltk.pos_tag(text)"
   ]
  },
  {
   "cell_type": "code",
   "execution_count": null,
   "metadata": {},
   "outputs": [],
   "source": []
  }
 ],
 "metadata": {
  "kernelspec": {
   "display_name": "Python 3",
   "language": "python",
   "name": "python3"
  },
  "language_info": {
   "codemirror_mode": {
    "name": "ipython",
    "version": 3
   },
   "file_extension": ".py",
   "mimetype": "text/x-python",
   "name": "python",
   "nbconvert_exporter": "python",
   "pygments_lexer": "ipython3",
   "version": "3.7.9"
  }
 },
 "nbformat": 4,
 "nbformat_minor": 4
}
