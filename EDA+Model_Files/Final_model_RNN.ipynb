{
 "cells": [
  {
   "cell_type": "code",
   "execution_count": 1,
   "id": "warming-stable",
   "metadata": {},
   "outputs": [],
   "source": [
    "import pickle"
   ]
  },
  {
   "cell_type": "code",
   "execution_count": 2,
   "id": "aerial-review",
   "metadata": {},
   "outputs": [
    {
     "name": "stdout",
     "output_type": "stream",
     "text": [
      "{'NoFG_NoPrior_': {0: 0.5465838313102722, 1: 0.5465838313102722, 2: 0.5465838313102722, 3: 0.5279502868652344, 4: 0.5465838313102722}, 'NoFG_Prior_': {0: 0.5465838313102722, 1: 0.5465838313102722, 2: 0.5465838313102722, 3: 0.5465838313102722, 4: 0.5465838313102722}, 'FG_Prior_': {0: 0.5465838313102722, 1: 0.5465838313102722, 2: 0.5652173757553101, 3: 0.5465838313102722, 4: 0.5465838313102722}}\n"
     ]
    }
   ],
   "source": [
    "result_nn = open('Results/6_Results.pkl', 'rb')\n",
    "result_nn1 = pickle.load(result_nn)\n",
    "print(result_nn1)"
   ]
  },
  {
   "cell_type": "code",
   "execution_count": 13,
   "id": "photographic-aquarium",
   "metadata": {},
   "outputs": [],
   "source": [
    "from _6_processing_functions import *\n",
    "from tensorflow import keras\n",
    "import keras_tuner as kerastuner\n",
    "from tensorflow.keras.layers import (\n",
    "    Dense,\n",
    "    Dropout,\n",
    "    BatchNormalization,\n",
    "    LSTM\n",
    ")\n",
    "import numpy as np\n",
    "from sklearn import model_selection\n",
    "import tensorflow as tf"
   ]
  },
  {
   "cell_type": "code",
   "execution_count": 14,
   "id": "unusual-egyptian",
   "metadata": {},
   "outputs": [],
   "source": [
    "\n",
    "def build_model(hp):\n",
    "    METRICS = ['accuracy']\n",
    "\n",
    "    model = keras.Sequential()\n",
    "\n",
    "    for i in range(hp.Choice('num_LSTM_layers', [1, 2, 3, 4, 5, 6])):\n",
    "        model.add(LSTM(units=hp.Choice('LSTM_layer_' + str(i) + '_width', [4, 8, 16, 32, 64, 128, 256]),\n",
    "                        kernel_initializer=hp.Choice('kernel_' + str(i), ['glorot_uniform', 'glorot_normal']),\n",
    "                        activation=hp.Choice('activation_' + str(i), ['relu', 'tanh']),\n",
    "                       return_sequences = True))\n",
    "        model.add(BatchNormalization())\n",
    "        model.add(Dropout(rate=hp.Choice('dropout_' + str(i), [0.0, 0.1, 0.2, 0.3, 0.5, 0.6, 0.7, 0.8, 0.9])))\n",
    "\n",
    "    model.add(LSTM(units=hp.Choice('LSTM_layer_outside' + '_width', [4, 8, 16, 32, 64, 128, 256]),\n",
    "                   kernel_initializer=hp.Choice('kernel_lstm_outside', ['glorot_uniform', 'glorot_normal']),\n",
    "                   activation=hp.Choice('activation_outside', ['relu', 'tanh']),\n",
    "                   return_sequences=False))\n",
    "    model.add(BatchNormalization())\n",
    "    model.add(Dropout(rate=hp.Choice('dropout_outside', [0.0, 0.1, 0.2, 0.3, 0.5, 0.7])))\n",
    "\n",
    "    for j in range(hp.Choice('num_dense_layers', [0, 1, 2, 3])):\n",
    "        model.add(Dense(units=hp.Choice('layer_' + str(j) + '_width', [4, 8, 16, 32, 64, 128, 256]),\n",
    "                        kernel_initializer=hp.Choice('kernel_' + str(j), ['glorot_uniform', 'glorot_normal']),\n",
    "                        activation=hp.Choice('activation_' + str(j), ['relu', 'tanh']),\n",
    "                        kernel_regularizer=tf.keras.regularizers.l1(hp.Choice('xlearning_rate' + str(j), [1.0,0.1, 0.01, 0.001]))))\n",
    "        model.add(BatchNormalization())\n",
    "        model.add(Dropout(rate=hp.Choice('dropout_' + str(j), [0.0, 0.1, 0.2, 0.3, 0.5, 0.6, 0.7, 0.8, 0.9])))\n",
    "\n",
    "    # Add different optimizers\n",
    "    model.add(Dense(1, activation='sigmoid'))\n",
    "    model.compile(optimizer=keras.optimizers.Adam(hp.Choice('learning_rate', [1.0, 0.1, 0.01, 0.001])),\n",
    "                  loss='binary_crossentropy',\n",
    "                  metrics=METRICS)\n",
    "    return model\n",
    "\n",
    "\n",
    "class CVTuner(kerastuner.engine.tuner.Tuner):\n",
    "    def run_trial(self, trial, train, test, executions=3, *args, **kwargs):\n",
    "        early_stop = tf.keras.callbacks.EarlyStopping(\n",
    "            monitor='val_loss', min_delta=0, patience=25, verbose=0,\n",
    "            mode='min', baseline=None, restore_best_weights=True\n",
    "        )\n",
    "\n",
    "        kwargs['batch_size'] = trial.hyperparameters.Choice('batch_size', [8, 16, 32, 64, 128])\n",
    "        print(kwargs)\n",
    "        exec_store = []\n",
    "        exec_store_loss = []\n",
    "        for exe in range(executions):\n",
    "\n",
    "            cv = TimeSeriesSplit(n_splits=4)\n",
    "            val_acc = []\n",
    "            val_loss = []\n",
    "            for train_indices, test_indices in cv.split(train):\n",
    "                x_train, x_val = train[train_indices], train[test_indices]\n",
    "                x_train, y_train, x_val, y_val, _1, _2 = processing_cv(x_train, x_val, test, seq=True, fg = kwargs['f_graph'])\n",
    "\n",
    "\n",
    "                model = self.hypermodel.build(trial.hyperparameters)\n",
    "                model.fit(x_train, y_train,\n",
    "                          batch_size=kwargs['batch_size'],\n",
    "                          epochs=kwargs['epochs'],\n",
    "                          validation_data=(x_val, y_val),\n",
    "                          callbacks=[early_stop])\n",
    "\n",
    "                val_acc.append(model.evaluate(x_val, y_val)[1])\n",
    "                val_loss.append(model.evaluate(x_val, y_val)[0])\n",
    "            # Mean or max??\n",
    "            exec_store.append(np.mean(val_acc))\n",
    "            exec_store_loss.append(np.mean(val_loss))\n",
    "\n",
    "        self.oracle.update_trial(trial.trial_id, {'val_accuracy': np.mean(exec_store),\n",
    "                                                  'val_loss': np.mean(exec_store_loss)})\n",
    "        self.save_model(trial.trial_id, model)"
   ]
  },
  {
   "cell_type": "code",
   "execution_count": 37,
   "id": "needed-harbor",
   "metadata": {},
   "outputs": [
    {
     "name": "stdout",
     "output_type": "stream",
     "text": [
      "INFO:tensorflow:Reloading Oracle from existing project Tuning/FG_Prior_/LSTM/oracle.json\n",
      "INFO:tensorflow:Reloading Tuner from Tuning/FG_Prior_/LSTM/tuner0.json\n"
     ]
    }
   ],
   "source": [
    "tuner = CVTuner(\n",
    "        hypermodel=build_model,\n",
    "        oracle=kerastuner.oracles.BayesianOptimization(\n",
    "            objective=kerastuner.Objective(\"val_accuracy\", direction=\"max\"),\n",
    "            max_trials=300),\n",
    "        directory='Tuning/FG_Prior_',\n",
    "        project_name='LSTM')"
   ]
  },
  {
   "cell_type": "code",
   "execution_count": 38,
   "id": "dietary-airline",
   "metadata": {},
   "outputs": [],
   "source": [
    "x = tuner.get_best_hyperparameters(10)[2]\n",
    "df = pd.read_csv('Data/Cleaned/FG_Prior_Present.csv')\n",
    "train, test = train_test_split(df)\n",
    "train, val = train_validation_split(train)\n",
    "x_train, y_train, x_val, y_val, x_test, y_test = processing_cv(train, val, test, fg=(False, 0))"
   ]
  },
  {
   "cell_type": "code",
   "execution_count": 41,
   "id": "developmental-business",
   "metadata": {},
   "outputs": [
    {
     "name": "stdout",
     "output_type": "stream",
     "text": [
      "Train on 527 samples, validate on 128 samples\n",
      "Epoch 1/100\n",
      "527/527 [==============================] - 12s 23ms/sample - loss: 0.9280 - accuracy: 0.5066 - val_loss: 0.6873 - val_accuracy: 0.5781\n",
      "Epoch 2/100\n",
      "527/527 [==============================] - 2s 4ms/sample - loss: 0.9841 - accuracy: 0.5370 - val_loss: 0.6847 - val_accuracy: 0.5781\n",
      "Epoch 3/100\n",
      "527/527 [==============================] - 2s 4ms/sample - loss: 0.8880 - accuracy: 0.4915 - val_loss: 0.6828 - val_accuracy: 0.5781\n",
      "Epoch 4/100\n",
      "527/527 [==============================] - 2s 4ms/sample - loss: 0.8996 - accuracy: 0.5180 - val_loss: 0.6819 - val_accuracy: 0.5781\n",
      "Epoch 5/100\n",
      "527/527 [==============================] - 2s 4ms/sample - loss: 0.8267 - accuracy: 0.5693 - val_loss: 0.6819 - val_accuracy: 0.5781\n",
      "Epoch 6/100\n",
      "527/527 [==============================] - 2s 4ms/sample - loss: 0.7916 - accuracy: 0.5446 - val_loss: 0.6818 - val_accuracy: 0.5781\n",
      "Epoch 7/100\n",
      "527/527 [==============================] - 2s 4ms/sample - loss: 0.8011 - accuracy: 0.5579 - val_loss: 0.6827 - val_accuracy: 0.5781\n",
      "Epoch 8/100\n",
      "527/527 [==============================] - 2s 4ms/sample - loss: 0.8451 - accuracy: 0.5484 - val_loss: 0.6834 - val_accuracy: 0.5781\n",
      "Epoch 9/100\n",
      "527/527 [==============================] - 2s 4ms/sample - loss: 0.8023 - accuracy: 0.5180 - val_loss: 0.6840 - val_accuracy: 0.5781\n",
      "Epoch 10/100\n",
      "527/527 [==============================] - 2s 4ms/sample - loss: 0.7728 - accuracy: 0.5389 - val_loss: 0.6840 - val_accuracy: 0.5781\n",
      "Epoch 11/100\n",
      "527/527 [==============================] - 2s 4ms/sample - loss: 0.7501 - accuracy: 0.5674 - val_loss: 0.6845 - val_accuracy: 0.5781\n",
      "Epoch 12/100\n",
      "527/527 [==============================] - 2s 4ms/sample - loss: 0.7523 - accuracy: 0.5351 - val_loss: 0.6846 - val_accuracy: 0.5781\n",
      "Epoch 13/100\n",
      "527/527 [==============================] - 2s 4ms/sample - loss: 0.7669 - accuracy: 0.5579 - val_loss: 0.6837 - val_accuracy: 0.5781\n",
      "Epoch 14/100\n",
      "527/527 [==============================] - 2s 4ms/sample - loss: 0.7294 - accuracy: 0.5617 - val_loss: 0.6847 - val_accuracy: 0.5781\n",
      "Epoch 15/100\n",
      "527/527 [==============================] - 2s 4ms/sample - loss: 0.7349 - accuracy: 0.5560 - val_loss: 0.6843 - val_accuracy: 0.5781\n",
      "Epoch 16/100\n",
      "527/527 [==============================] - 2s 4ms/sample - loss: 0.7311 - accuracy: 0.5503 - val_loss: 0.6829 - val_accuracy: 0.5781\n",
      "Epoch 17/100\n",
      "527/527 [==============================] - 2s 4ms/sample - loss: 0.6918 - accuracy: 0.5844 - val_loss: 0.6829 - val_accuracy: 0.5781\n",
      "Epoch 18/100\n",
      "527/527 [==============================] - 2s 4ms/sample - loss: 0.6918 - accuracy: 0.6015 - val_loss: 0.6831 - val_accuracy: 0.5859\n",
      "Epoch 19/100\n",
      "527/527 [==============================] - 2s 4ms/sample - loss: 0.7298 - accuracy: 0.5617 - val_loss: 0.6821 - val_accuracy: 0.5625\n",
      "Epoch 20/100\n",
      "527/527 [==============================] - 2s 4ms/sample - loss: 0.7199 - accuracy: 0.5617 - val_loss: 0.6814 - val_accuracy: 0.5625\n",
      "Epoch 21/100\n",
      "527/527 [==============================] - 2s 4ms/sample - loss: 0.6702 - accuracy: 0.6053 - val_loss: 0.6831 - val_accuracy: 0.5469\n",
      "Epoch 22/100\n",
      "527/527 [==============================] - 2s 4ms/sample - loss: 0.7275 - accuracy: 0.5541 - val_loss: 0.6859 - val_accuracy: 0.5391\n",
      "Epoch 23/100\n",
      "527/527 [==============================] - 2s 4ms/sample - loss: 0.6965 - accuracy: 0.5787 - val_loss: 0.6862 - val_accuracy: 0.5391\n",
      "Epoch 24/100\n",
      "527/527 [==============================] - 2s 4ms/sample - loss: 0.7043 - accuracy: 0.5693 - val_loss: 0.6855 - val_accuracy: 0.5156\n",
      "Epoch 25/100\n",
      "527/527 [==============================] - 2s 4ms/sample - loss: 0.6983 - accuracy: 0.5844 - val_loss: 0.6860 - val_accuracy: 0.5312\n",
      "Epoch 26/100\n",
      "527/527 [==============================] - 2s 4ms/sample - loss: 0.6892 - accuracy: 0.5844 - val_loss: 0.6864 - val_accuracy: 0.5312\n",
      "Epoch 27/100\n",
      "527/527 [==============================] - 2s 4ms/sample - loss: 0.6679 - accuracy: 0.6262 - val_loss: 0.6869 - val_accuracy: 0.5234\n",
      "Epoch 28/100\n",
      "527/527 [==============================] - 2s 4ms/sample - loss: 0.7004 - accuracy: 0.5617 - val_loss: 0.6846 - val_accuracy: 0.5391\n",
      "Epoch 29/100\n",
      "527/527 [==============================] - 2s 4ms/sample - loss: 0.6824 - accuracy: 0.6015 - val_loss: 0.6848 - val_accuracy: 0.5703\n",
      "Epoch 30/100\n",
      "527/527 [==============================] - 2s 4ms/sample - loss: 0.6727 - accuracy: 0.5769 - val_loss: 0.6847 - val_accuracy: 0.5781\n",
      "Epoch 31/100\n",
      "527/527 [==============================] - 2s 4ms/sample - loss: 0.6746 - accuracy: 0.5939 - val_loss: 0.6868 - val_accuracy: 0.5703\n",
      "Epoch 32/100\n",
      "527/527 [==============================] - 2s 4ms/sample - loss: 0.6567 - accuracy: 0.6148 - val_loss: 0.6927 - val_accuracy: 0.5547\n",
      "Epoch 33/100\n",
      "527/527 [==============================] - 2s 4ms/sample - loss: 0.6560 - accuracy: 0.6129 - val_loss: 0.6956 - val_accuracy: 0.5703\n",
      "Epoch 34/100\n",
      "527/527 [==============================] - 2s 4ms/sample - loss: 0.6687 - accuracy: 0.5977 - val_loss: 0.6949 - val_accuracy: 0.5469\n",
      "Epoch 35/100\n",
      "527/527 [==============================] - 2s 4ms/sample - loss: 0.6793 - accuracy: 0.5750 - val_loss: 0.6960 - val_accuracy: 0.5391\n",
      "Epoch 36/100\n",
      "527/527 [==============================] - 2s 4ms/sample - loss: 0.6815 - accuracy: 0.5825 - val_loss: 0.6971 - val_accuracy: 0.5625\n",
      "Epoch 37/100\n",
      "527/527 [==============================] - 2s 4ms/sample - loss: 0.6606 - accuracy: 0.6072 - val_loss: 0.6984 - val_accuracy: 0.5547\n",
      "Epoch 38/100\n",
      "527/527 [==============================] - 2s 4ms/sample - loss: 0.6411 - accuracy: 0.6243 - val_loss: 0.7011 - val_accuracy: 0.5547\n",
      "Epoch 39/100\n",
      "527/527 [==============================] - 2s 4ms/sample - loss: 0.6493 - accuracy: 0.5920 - val_loss: 0.7016 - val_accuracy: 0.5234\n",
      "Epoch 40/100\n",
      "527/527 [==============================] - 2s 4ms/sample - loss: 0.6557 - accuracy: 0.6053 - val_loss: 0.7011 - val_accuracy: 0.5547\n",
      "Epoch 41/100\n",
      "527/527 [==============================] - 2s 4ms/sample - loss: 0.6603 - accuracy: 0.6243 - val_loss: 0.6998 - val_accuracy: 0.5312\n",
      "Epoch 42/100\n",
      "527/527 [==============================] - 2s 4ms/sample - loss: 0.6589 - accuracy: 0.6224 - val_loss: 0.7008 - val_accuracy: 0.5625\n",
      "Epoch 43/100\n",
      "527/527 [==============================] - 2s 5ms/sample - loss: 0.6469 - accuracy: 0.6433 - val_loss: 0.6988 - val_accuracy: 0.5625\n",
      "Epoch 44/100\n",
      "527/527 [==============================] - 2s 4ms/sample - loss: 0.6141 - accuracy: 0.6546 - val_loss: 0.6963 - val_accuracy: 0.5547\n",
      "Epoch 45/100\n",
      "527/527 [==============================] - 2s 4ms/sample - loss: 0.6537 - accuracy: 0.6205 - val_loss: 0.7062 - val_accuracy: 0.5312\n",
      "161/1 [==============================================================================================================================================================================================================================================================================================================================================================================================================================================================================================================================================================================================================================================================================================================================================================================================================================================================================================================================================================================================================================================================================================================================================================================================================================================================================================================================================================================================================================================================================================================================================================================================================================================================================================================================================================================================================================================================================================================================================================================================================================================================================================================================================================================================================================================================================================================================================================================================================================================================================================================================================================================================================================================================================================================================================================================================================================================================================================================================================================================================================================================================================================================================================================================================================================================================================================================================================================================================================================================================================================================================================================================================================================================================================================================================================================================================================================================================================================================================================================================================================================================================================================================================================================================================================================================================================================================================================================================================================================================================================================================================================================================================================================================================================================================================================================================================================================================================================================================================================================================================================================] - 2s 14ms/sample - loss: 0.7630 - accuracy: 0.5528\n",
      "0.55279505\n"
     ]
    }
   ],
   "source": [
    "early_stop = tf.keras.callbacks.EarlyStopping(\n",
    "            monitor='val_loss', min_delta=0, patience=25, verbose=0,\n",
    "            mode='min', baseline=None, restore_best_weights=True\n",
    "        )\n",
    "\n",
    "hypermodel = tuner.hypermodel.build(x)\n",
    "        # Retrain the model\n",
    "hist = hypermodel.fit(x_train, y_train, epochs=100, validation_data=(x_val, y_val), callbacks =[early_stop])\n",
    "\n",
    "t = hypermodel.evaluate(x_test, y_test)[1]\n",
    "\n",
    "print(t)"
   ]
  },
  {
   "cell_type": "code",
   "execution_count": 43,
   "id": "joined-andrews",
   "metadata": {},
   "outputs": [
    {
     "name": "stdout",
     "output_type": "stream",
     "text": [
      "[[ 8 65]\n",
      " [ 7 81]]\n",
      "[[0.10958904 0.89041096]\n",
      " [0.07954545 0.92045455]]\n"
     ]
    }
   ],
   "source": [
    "from sklearn.metrics import confusion_matrix\n",
    "\n",
    "cm = confusion_matrix(y_test, hypermodel.predict(x_test) > 0.5)\n",
    "print(cm)\n",
    "\n",
    "cm = confusion_matrix(y_test, hypermodel.predict(x_test) > 0.5, normalize = 'true')\n",
    "print(cm)\n",
    "cm = np.round(cm, decimals=2)"
   ]
  },
  {
   "cell_type": "code",
   "execution_count": 44,
   "id": "talented-pastor",
   "metadata": {},
   "outputs": [
    {
     "data": {
      "image/png": "[encoded data removed]",
      "text/plain": [
       "<Figure size 1080x432 with 2 Axes>"
      ]
     },
     "metadata": {
      "needs_background": "light"
     },
     "output_type": "display_data"
    }
   ],
   "source": [
    "import matplotlib.pyplot as plt\n",
    "fig, axs = plt.subplots(1,2, sharex=True, sharey=True)\n",
    "fig.set_figheight(6)\n",
    "fig.set_figwidth(15)\n",
    "\n",
    "best_e = early_stop.stopped_epoch - 25\n",
    "\n",
    "history = hist\n",
    "fig.suptitle('Training and Validation Accuracy and Loss')\n",
    "axs[0].set_title('Loss')\n",
    "axs[0].plot(history.history['loss'], label='Train loss')\n",
    "axs[0].plot(history.history['val_loss'], label='Validation loss')\n",
    "axs[0].legend()\n",
    "axs[0].grid(True)\n",
    "axs[0].set_xlim([-1, 75 ])\n",
    "axs[0].set_ylim([0,1.0])\n",
    "axs[0].set_xlabel('epoch')\n",
    "axs[0].axvline(x=best_e, color='r', linestyle='--', alpha = 0.5)\n",
    "# axs[0, 0].axvline(x=simple_e, color='r', linestyle='--', alpha = 0.5)\n",
    "\n",
    "\n",
    "axs[1].set_title('Accuracy')\n",
    "axs[1].plot(history.history['accuracy'], label='Train accuracy')\n",
    "axs[1].plot(history.history['val_accuracy'], label='Validation accuracy')\n",
    "axs[1].legend()\n",
    "axs[1].grid(True)\n",
    "axs[1].set_xlim([-1,75])\n",
    "axs[1].set_ylim([0,1.0])\n",
    "axs[1].set_xlabel('epoch')\n",
    "axs[1].axvline(x=best_e, color='r', linestyle='--', alpha = 0.5)\n",
    "# axs[0, 1].axvline(x=simple_e, color='r', linestyle='--', alpha = 0.5)\n",
    "\n",
    "plt.savefig('PlotsForDiss/Prior_FG_RNN.png')\n",
    "\n",
    "hypermodel.save('Final_Models/FG_Prior_RNN.h5')"
   ]
  },
  {
   "cell_type": "code",
   "execution_count": null,
   "id": "electric-colleague",
   "metadata": {},
   "outputs": [],
   "source": []
  }
 ],
 "metadata": {
  "kernelspec": {
   "display_name": "Python 3",
   "language": "python",
   "name": "python3"
  },
  "language_info": {
   "codemirror_mode": {
    "name": "ipython",
    "version": 3
   },
   "file_extension": ".py",
   "mimetype": "text/x-python",
   "name": "python",
   "nbconvert_exporter": "python",
   "pygments_lexer": "ipython3",
   "version": "3.7.9"
  }
 },
 "nbformat": 4,
 "nbformat_minor": 5
}
