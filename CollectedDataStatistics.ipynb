{
 "cells": [
  {
   "cell_type": "code",
   "execution_count": 27,
   "metadata": {},
   "outputs": [],
   "source": [
    "import numpy as np\n",
    "import os\n",
    "import pandas as pd\n",
    "\n",
    "# Do pre-processing to all twitter data\n",
    "folders = ['Data/DataPrior/Raw/', 'Data/DataTest/Raw/']\n",
    "\n",
    "total_prior_data = 0\n",
    "total_test_data = 0 \n",
    "\n",
    "total_prior = 0\n",
    "total_test = 0 \n",
    "\n",
    "max_prior = 0\n",
    "min_prior = 10000\n",
    "\n",
    "max_test = 0\n",
    "min_test = 10000\n",
    "\n",
    "values_prior = []\n",
    "values_test = []\n",
    "\n",
    "with open('Users&Keywords/users_files_checked.txt', 'r') as users:\n",
    "    Lines = users.readlines()\n",
    "    for folder in folders:\n",
    "        for line in Lines:\n",
    "            df = pd.read_csv(folder + line.strip() + '.csv')\n",
    "            \n",
    "            if folder == 'Data/DataPrior/Raw/': \n",
    "                values_prior.append(len(df.index))\n",
    "            else: \n",
    "                values_test.append(len(df.index))\n",
    "            \n",
    "            if folder == 'Data/DataPrior/Raw/': \n",
    "                if len(df.index) > max_prior: \n",
    "                    max_prior = len(df.index)\n",
    "                if len(df.index) < min_prior: \n",
    "                    min_prior = len(df.index)\n",
    "            else: \n",
    "                if len(df.index) > max_test: \n",
    "                    max_test = len(df.index)\n",
    "                if len(df.index) < min_test: \n",
    "                    min_test = len(df.index)\n",
    "            \n",
    "            if folder == 'Data/DataPrior/Raw/': \n",
    "                total_prior_data += len(df.index)\n",
    "            else: \n",
    "                total_test_data += len(df.index)\n",
    "                \n",
    "            if folder == 'Data/DataPrior/Raw/': \n",
    "                total_prior += 1\n",
    "            else: \n",
    "                total_test += 1\n",
    "            "
   ]
  },
  {
   "cell_type": "code",
   "execution_count": 31,
   "metadata": {},
   "outputs": [
    {
     "name": "stdout",
     "output_type": "stream",
     "text": [
      "162427\n",
      "1384898\n"
     ]
    }
   ],
   "source": [
    "print(sum(values_test))\n",
    "print(sum(values_prior))"
   ]
  },
  {
   "cell_type": "code",
   "execution_count": 34,
   "metadata": {},
   "outputs": [
    {
     "name": "stdout",
     "output_type": "stream",
     "text": [
      "1160.192857142857\n",
      "9892.128571428571\n"
     ]
    }
   ],
   "source": [
    "print(np.mean(values_test))\n",
    "print(np.mean(values_prior))"
   ]
  },
  {
   "cell_type": "code",
   "execution_count": 36,
   "metadata": {},
   "outputs": [
    {
     "name": "stdout",
     "output_type": "stream",
     "text": [
      "327.0\n",
      "3560.5\n"
     ]
    }
   ],
   "source": [
    "print(np.median(values_test))\n",
    "print(np.median(values_prior))"
   ]
  },
  {
   "cell_type": "code",
   "execution_count": 37,
   "metadata": {},
   "outputs": [],
   "source": [
    "import matplotlib.pyplot as plt"
   ]
  },
  {
   "cell_type": "code",
   "execution_count": 42,
   "metadata": {},
   "outputs": [
    {
     "data": {
      "text/plain": [
       "<BarContainer object of 140 artists>"
      ]
     },
     "execution_count": 42,
     "metadata": {},
     "output_type": "execute_result"
    },
    {
     "data": {
      "image/png": "[encoded data removed]",
      "text/plain": [
       "<Figure size 432x288 with 1 Axes>"
      ]
     },
     "metadata": {
      "needs_background": "light"
     },
     "output_type": "display_data"
    }
   ],
   "source": [
    "plt.bar(range(len(values_test)), values_test)"
   ]
  },
  {
   "cell_type": "code",
   "execution_count": 43,
   "metadata": {},
   "outputs": [
    {
     "data": {
      "text/plain": [
       "<BarContainer object of 140 artists>"
      ]
     },
     "execution_count": 43,
     "metadata": {},
     "output_type": "execute_result"
    },
    {
     "data": {
      "image/png": "[encoded data removed]",
      "text/plain": [
       "<Figure size 432x288 with 1 Axes>"
      ]
     },
     "metadata": {
      "needs_background": "light"
     },
     "output_type": "display_data"
    }
   ],
   "source": [
    "plt.bar(range(len(values_prior)), values_test)"
   ]
  },
  {
   "cell_type": "code",
   "execution_count": 44,
   "metadata": {},
   "outputs": [
    {
     "data": {
      "text/plain": [
       "140"
      ]
     },
     "execution_count": 44,
     "metadata": {},
     "output_type": "execute_result"
    }
   ],
   "source": [
    "len(values_test)"
   ]
  },
  {
   "cell_type": "code",
   "execution_count": 45,
   "metadata": {},
   "outputs": [],
   "source": [
    "import itertools"
   ]
  },
  {
   "cell_type": "code",
   "execution_count": 46,
   "metadata": {},
   "outputs": [],
   "source": [
    "user_list = []\n",
    "with open('Users&Keywords/checked_users.txt', 'r') as users:\n",
    "    Lines = users.readlines()\n",
    "    for line1 in Lines:\n",
    "        source = line1.strip()\n",
    "        user_list.append(source)"
   ]
  },
  {
   "cell_type": "code",
   "execution_count": 54,
   "metadata": {},
   "outputs": [],
   "source": [
    "x = [comb for comb in itertools.combinations(user_list, 2)]"
   ]
  },
  {
   "cell_type": "code",
   "execution_count": 61,
   "metadata": {},
   "outputs": [
    {
     "data": {
      "text/plain": [
       "0.4949381327334083"
      ]
     },
     "execution_count": 61,
     "metadata": {},
     "output_type": "execute_result"
    }
   ],
   "source": [
    "x.index(('optionshawk', 'bbcbreaking'))/len(x)"
   ]
  },
  {
   "cell_type": "code",
   "execution_count": 73,
   "metadata": {},
   "outputs": [],
   "source": [
    "x = pd.read_csv('Data/Cleaned/NoFG_Prior_Present.csv')"
   ]
  },
  {
   "cell_type": "code",
   "execution_count": 74,
   "metadata": {},
   "outputs": [
    {
     "data": {
      "text/plain": [
       "Index(['prediction_day', 'abc', 'allstarcharts', 'benzinga', 'bespokeinvest',\n",
       "       'breakingviews', 'business', 'charliebilello', 'cnbc', 'cnbcnow',\n",
       "       'dealbook', 'dkellercmt', 'firstadopter', 'ft', 'harmongreg',\n",
       "       'hmeisler', 'ibdinvestors', 'incredibletrade', 'ivanthek', 'jimcramer',\n",
       "       'johnscharts', 'lizannsonders', 'lmt978', 'markets', 'marketwatch',\n",
       "       'nytimesbusiness', 'optionshawk', 'profgalloway', 'reddogt3',\n",
       "       'reutersbiz', 'ritholtz', 'ritholtzwealth', 'robintheblack',\n",
       "       'ryandetrick', 'schuldensuehner', 'sjd10304', 'sjosephburns', 'skynews',\n",
       "       'spdjindices', 'stocktwits', 'the_real_fly', 'thestalwart', 'usatoday',\n",
       "       'usatodaymoney', 'wsj', 'wsjmarkets', 'zerohedge', 'y'],\n",
       "      dtype='object')"
      ]
     },
     "execution_count": 74,
     "metadata": {},
     "output_type": "execute_result"
    }
   ],
   "source": [
    "x.columns"
   ]
  },
  {
   "cell_type": "code",
   "execution_count": 68,
   "metadata": {},
   "outputs": [
    {
     "data": {
      "text/plain": [
       "Index(['jimcramer_dealbook', 'jimcramer_jimcramer', 'jimcramer_wsjmarkets',\n",
       "       'wsjmarkets_robintheblack', 'wsjmarkets_lizannsonders',\n",
       "       'wsjmarkets_usatoday', 'wsjmarkets_ivanthek', 'wsjmarkets_sjosephburns',\n",
       "       'wsjmarkets_ritholtzwealth', 'wsjmarkets_zerohedge',\n",
       "       'wsjmarkets_ryandetrick', 'wsjmarkets_optionshawk',\n",
       "       'wsjmarkets_firstadopter', 'wsjmarkets_skynews',\n",
       "       'wsjmarkets_the_real_fly', 'wsjmarkets_incredibletrade',\n",
       "       'wsjmarkets_bespokeinvest', 'wsjmarkets_allstarcharts',\n",
       "       'wsjmarkets_usatodaymoney', 'wsjmarkets_spdjindices',\n",
       "       'wsjmarkets_charliebilello', 'wsjmarkets_profgalloway', 'wsjmarkets_ft',\n",
       "       'wsjmarkets_hmeisler', 'wsjmarkets_wsj', 'wsjmarkets_cnbcnow',\n",
       "       'wsjmarkets_sjd10304', 'wsjmarkets_cnbc', 'wsjmarkets_lmt978',\n",
       "       'wsjmarkets_johnscharts', 'wsjmarkets_harmongreg',\n",
       "       'wsjmarkets_benzinga', 'wsjmarkets_breakingviews',\n",
       "       'wsjmarkets_thestalwart', 'wsjmarkets_ibdinvestors',\n",
       "       'wsjmarkets_schuldensuehner', 'wsjmarkets_reutersbiz',\n",
       "       'wsjmarkets_ritholtz', 'wsjmarkets_markets', 'wsjmarkets_stocktwits',\n",
       "       'wsjmarkets_nytimesbusiness', 'wsjmarkets_reddogt3',\n",
       "       'wsjmarkets_marketwatch', 'wsjmarkets_business', 'wsjmarkets_abc',\n",
       "       'wsjmarkets_dkellercmt', 'wsjmarkets_dealbook', 'wsjmarkets_jimcramer',\n",
       "       'wsjmarkets_wsjmarkets', 'y'],\n",
       "      dtype='object')"
      ]
     },
     "execution_count": 68,
     "metadata": {},
     "output_type": "execute_result"
    }
   ],
   "source": [
    "x.columns[-50:]"
   ]
  },
  {
   "cell_type": "markdown",
   "metadata": {},
   "source": [
    "## double check the data in the Prior dataset is correct. The numbers seem quite big and strange://"
   ]
  },
  {
   "cell_type": "code",
   "execution_count": 76,
   "metadata": {},
   "outputs": [],
   "source": [
    "df = pd.read_csv('Data/Cleaned/NoFG_Prior_Present.csv')"
   ]
  },
  {
   "cell_type": "code",
   "execution_count": 82,
   "metadata": {},
   "outputs": [
    {
     "data": {
      "text/plain": [
       "abc                  1.341933\n",
       "allstarcharts        6.775701\n",
       "barbariancap         3.756052\n",
       "benzinga            -1.875833\n",
       "bespokeinvest        6.113908\n",
       "breakingviews        6.215626\n",
       "business             2.301157\n",
       "callum_thomas       24.098100\n",
       "charliebilello       6.375714\n",
       "cnbc                 1.680433\n",
       "cnbcnow              3.768828\n",
       "davidschawel         2.646133\n",
       "dealbook             3.178984\n",
       "dkellercmt          -9.228867\n",
       "firstadopter         9.758053\n",
       "ft                   2.247522\n",
       "harmongreg         166.206984\n",
       "hmeisler             2.894744\n",
       "ibdinvestors        -0.872302\n",
       "incredibletrade     -1.264733\n",
       "investorslive       -3.967056\n",
       "ivanthek             1.801204\n",
       "jimcramer           -8.723182\n",
       "johnscharts         -1.229168\n",
       "keithmccullough     13.111914\n",
       "lizannsonders       -9.029367\n",
       "lmt978              -0.240694\n",
       "marketclub          -3.964082\n",
       "markets              3.408410\n",
       "marketwatch          1.948371\n",
       "modestproposal1      2.437920\n",
       "newsquawk            5.031485\n",
       "noahpinion           1.888449\n",
       "nytimesbusiness      2.412235\n",
       "optionshawk         -0.272761\n",
       "profgalloway         7.135013\n",
       "qtrresearch          4.458213\n",
       "reddogt3            -2.111274\n",
       "reutersbiz           3.146748\n",
       "ritholtz             1.952318\n",
       "ritholtzwealth       7.371630\n",
       "robintheblack        8.968298\n",
       "ryandetrick         -5.960773\n",
       "schuldensuehner      3.048433\n",
       "sjd10304             3.851851\n",
       "sjosephburns         4.651518\n",
       "skynews              1.253328\n",
       "spdjindices        -28.340563\n",
       "stockcats            6.269288\n",
       "stocktwits          46.339813\n",
       "the_real_fly         1.994955\n",
       "thebubblebubble      2.924736\n",
       "thestalwart          3.342828\n",
       "timmerfidelity     -10.238925\n",
       "usatoday             1.361602\n",
       "usatodaymoney        3.334673\n",
       "wsj                  1.591864\n",
       "wsjmarkets           2.551239\n",
       "zerohedge            1.446479\n",
       "y                    0.555422\n",
       "dtype: float64"
      ]
     },
     "execution_count": 82,
     "metadata": {},
     "output_type": "execute_result"
    }
   ],
   "source": [
    "df.mean(0)"
   ]
  },
  {
   "cell_type": "code",
   "execution_count": null,
   "metadata": {},
   "outputs": [],
   "source": []
  }
 ],
 "metadata": {
  "kernelspec": {
   "display_name": "Python 3",
   "language": "python",
   "name": "python3"
  },
  "language_info": {
   "codemirror_mode": {
    "name": "ipython",
    "version": 3
   },
   "file_extension": ".py",
   "mimetype": "text/x-python",
   "name": "python",
   "nbconvert_exporter": "python",
   "pygments_lexer": "ipython3",
   "version": "3.8.3"
  }
 },
 "nbformat": 4,
 "nbformat_minor": 5
}
