{
 "cells": [
  {
   "cell_type": "code",
   "execution_count": 1,
   "id": "b8c068fb-6165-4519-86ef-6784ead5d334",
   "metadata": {},
   "outputs": [
    {
     "name": "stderr",
     "output_type": "stream",
     "text": [
      "/opt/anaconda3/envs/Diss/lib/python3.7/site-packages/ipykernel_launcher.py:3: DeprecationWarning: `import kerastuner` is deprecated, please use `import keras_tuner`.\n",
      "  This is separate from the ipykernel package so we can avoid doing imports until\n"
     ]
    }
   ],
   "source": [
    "from tensorflow import keras\n",
    "import tensorflow\n",
    "import kerastuner \n",
    "\n"
   ]
  },
  {
   "cell_type": "code",
   "execution_count": 2,
   "id": "0f1e716c-ef82-4c8e-afaa-b9c93c3486bb",
   "metadata": {},
   "outputs": [],
   "source": [
    "from tensorflow.keras.layers import (\n",
    "    Conv2D,\n",
    "    Dense,\n",
    "    Dropout,\n",
    "    Flatten,\n",
    "    MaxPooling2D, \n",
    "    BatchNormalization\n",
    ")\n",
    "\n",
    "import random\n",
    "import tensorflow as tf"
   ]
  },
  {
   "cell_type": "code",
   "execution_count": 3,
   "id": "21e22208-a111-447f-b791-0c2ab0d1562b",
   "metadata": {},
   "outputs": [],
   "source": [
    "from sklearn import datasets\n",
    "from sklearn.model_selection import train_test_split\n",
    "\n",
    "iris = datasets.load_breast_cancer()\n",
    "X = iris.data[:, :]  # we only take the first two features.\n",
    "y = iris.target"
   ]
  },
  {
   "cell_type": "code",
   "execution_count": 4,
   "id": "da96974c-79bf-4634-bfcb-f9263a97a631",
   "metadata": {},
   "outputs": [],
   "source": [
    "x_train, x_test, y_train, y_test = train_test_split(X,y)"
   ]
  },
  {
   "cell_type": "code",
   "execution_count": 5,
   "id": "982d4d20-adca-4924-b1e4-3712a19f5452",
   "metadata": {},
   "outputs": [],
   "source": [
    "#importing StandardScaler\n",
    "from sklearn.preprocessing import StandardScaler\n",
    "#creating object\n",
    "sc = StandardScaler()\n",
    "x_train = sc.fit_transform(x_train)\n",
    "x_test = sc.transform(x_test)"
   ]
  },
  {
   "cell_type": "code",
   "execution_count": 6,
   "id": "eab1f478-7b0e-480a-8691-deab6be2ff24",
   "metadata": {},
   "outputs": [],
   "source": [
    "METRICS = ['accuracy']"
   ]
  },
  {
   "cell_type": "code",
   "execution_count": 7,
   "id": "c84062dd-3bf2-4c1a-ba5e-0fe42e7d27fd",
   "metadata": {},
   "outputs": [],
   "source": [
    "def build_model(hp):\n",
    "    \n",
    "    model = keras.Sequential()\n",
    "    \n",
    "    for i in range(hp.Choice('num_layers', [1,2,3])):\n",
    "        model.add(Dense(units=hp.Choice('layer_' + str(i+1) + '_width',[8, 16, 32, 64, 128]), \\\n",
    "                        kernel_initializer = hp.Choice('kernel_' + str(i+1), ['glorot_uniform']), \\\n",
    "                        activation= hp.Choice('activation_' + str(i+1), ['relu', 'tanh'])))\n",
    "        model.add(BatchNormalization())\n",
    "        model.add(Dropout(rate=hp.Choice('dropout_'+ str(i+1),[0.0,0.1,0.2, 0.5])))\n",
    "        \n",
    "    ## Add different optimizers\n",
    "    model.add(Dense(1, activation='sigmoid'))\n",
    "    model.compile(optimizer=keras.optimizers.Adam(hp.Choice('learning_rate', [1.0, 0.1, 0.01, 0.001])),loss='binary_crossentropy',metrics=METRICS)\n",
    "    return model"
   ]
  },
  {
   "cell_type": "code",
   "execution_count": 12,
   "id": "fb062d6a-b2bd-4c40-89a6-0136e1a512b7",
   "metadata": {
    "tags": []
   },
   "outputs": [
    {
     "name": "stdout",
     "output_type": "stream",
     "text": [
      "Trial 1 Complete [00h 00m 21s]\n",
      "val_accuracy: 0.9640062583817376\n",
      "\n",
      "Best val_accuracy So Far: 0.9640062583817376\n",
      "Total elapsed time: 00h 00m 21s\n",
      "INFO:tensorflow:Oracle triggered exit\n"
     ]
    }
   ],
   "source": [
    "import kerastuner\n",
    "import numpy as np\n",
    "from sklearn import model_selection\n",
    "import time\n",
    "\n",
    "class CVTuner(kerastuner.engine.tuner.Tuner):\n",
    "    def run_trial(self, trial, x, y, executions = 3, *args, **kwargs):\n",
    "        \n",
    "        kwargs['batch_size'] = trial.hyperparameters.Choice('batch_size', [8, 16, 64, 128])\n",
    "        \n",
    "        exec_store = []\n",
    "        for exe in range(executions):\n",
    "            cv = model_selection.KFold(3)\n",
    "            val_acc = []\n",
    "            for train_indices, test_indices in cv.split(x):\n",
    "                x_train, x_val = x[train_indices], x[test_indices]\n",
    "                y_train, y_val = y[train_indices], y[test_indices]\n",
    "                model = self.hypermodel.build(trial.hyperparameters)\n",
    "                model.fit(x_train, y_train, \\\n",
    "                          batch_size=kwargs['batch_size'], \\\n",
    "                          epochs=kwargs['epochs'], \\\n",
    "                          validation_data = (x_val, y_val))\n",
    "\n",
    "                val_acc.append(model.evaluate(x_val, y_val)[1])\n",
    "            ## Mean or max??\n",
    "            exec_store.append(np.mean(val_acc))\n",
    "        \n",
    "        self.oracle.update_trial(trial.trial_id, {'val_accuracy': np.mean(exec_store)})\n",
    "        self.save_model(trial.trial_id, model)\n",
    "\n",
    "tuner = CVTuner(\n",
    "  hypermodel=build_model,\n",
    "  oracle=kerastuner.oracles.BayesianOptimization(\n",
    "    objective=kerastuner.Objective(\"val_accuracy\", direction=\"max\"),\n",
    "    max_trials=1), \\\n",
    "    directory='Tuning',\\\n",
    "    project_name= str(time.time()))\n",
    "\n",
    "\n",
    "tuner.search(x_train, y_train,\\\n",
    "             epochs=15)"
   ]
  },
  {
   "cell_type": "code",
   "execution_count": null,
   "id": "27c77b70-8212-4ff2-9976-7b6b60ddff61",
   "metadata": {},
   "outputs": [],
   "source": [
    "# Get the optimal hyperparameters\n",
    "best_hps=tuner.get_best_hyperparameters(num_trials=10)\n",
    "print(best_hps[0].values)"
   ]
  },
  {
   "cell_type": "code",
   "execution_count": null,
   "id": "71525682-a1c0-4c3d-bce3-9a9146416887",
   "metadata": {
    "tags": []
   },
   "outputs": [],
   "source": [
    "# Build the model with the optimal hyperparameters and train it on the data for 50 epochs\n",
    "model = tuner.hypermodel.build(best_hps)\n",
    "history = model.fit(x_train, y_train, epochs=150, validation_split=0.2)\n",
    "\n",
    "val_acc_per_epoch = history.history['val_accuracy']\n",
    "best_epoch = val_acc_per_epoch.index(max(val_acc_per_epoch)) + 1\n",
    "print('Best epoch: %d' % (best_epoch,))"
   ]
  },
  {
   "cell_type": "code",
   "execution_count": null,
   "id": "e391a453-fd57-4974-8358-32e7f29eb186",
   "metadata": {},
   "outputs": [],
   "source": [
    "hypermodel = tuner.hypermodel.build(best_hps)\n",
    "\n",
    "# Retrain the model\n",
    "hypermodel.fit(x_train, y_train, epochs=best_epoch, validation_split=0.2)"
   ]
  },
  {
   "cell_type": "code",
   "execution_count": null,
   "id": "35a3fa4e-ef2f-4f4d-82f8-c389daaf6d0e",
   "metadata": {},
   "outputs": [],
   "source": [
    "eval_result = hypermodel.evaluate(x_test, y_test)\n",
    "print(\"[test loss, test accuracy]:\", eval_result)"
   ]
  },
  {
   "cell_type": "code",
   "execution_count": null,
   "id": "f8ecbea4-1588-4028-aabf-cb1f99a06e23",
   "metadata": {},
   "outputs": [],
   "source": [
    "from sklearn.metrics import confusion_matrix\n",
    "from sklearn.metrics import accuracy_score\n",
    "cm = confusion_matrix(y_test,hypermodel.predict(x_test) > 0.5)\n",
    "print(cm)\n"
   ]
  },
  {
   "cell_type": "code",
   "execution_count": null,
   "id": "499d8721-b402-4a52-abae-3682986d598d",
   "metadata": {},
   "outputs": [],
   "source": [
    "best_model = tuner.get_best_hyperparameters(10)"
   ]
  },
  {
   "cell_type": "code",
   "execution_count": null,
   "id": "3beccddb-a97e-4efc-9a46-d27488bde351",
   "metadata": {},
   "outputs": [],
   "source": [
    "print(best_model[0].values)"
   ]
  },
  {
   "cell_type": "code",
   "execution_count": null,
   "id": "83edd5a5-f41d-4d58-a8e3-8a8faf55725c",
   "metadata": {},
   "outputs": [],
   "source": []
  }
 ],
 "metadata": {
  "kernelspec": {
   "display_name": "Python 3",
   "language": "python",
   "name": "python3"
  },
  "language_info": {
   "codemirror_mode": {
    "name": "ipython",
    "version": 3
   },
   "file_extension": ".py",
   "mimetype": "text/x-python",
   "name": "python",
   "nbconvert_exporter": "python",
   "pygments_lexer": "ipython3",
   "version": "3.7.10"
  }
 },
 "nbformat": 4,
 "nbformat_minor": 5
}
